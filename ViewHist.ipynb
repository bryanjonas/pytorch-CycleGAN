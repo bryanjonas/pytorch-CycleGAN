{
 "cells": [
  {
   "cell_type": "code",
   "execution_count": 11,
   "metadata": {},
   "outputs": [],
   "source": [
    "import seaborn as sns\n",
    "sns.set()\n",
    "%matplotlib inline\n",
    "from skimage.io import imread\n",
    "from glob import glob\n",
    "from random import sample\n",
    "import numpy as np\n",
    "import matplotlib.pyplot as plt\n",
    "from scipy.stats import ks_2samp"
   ]
  },
  {
   "cell_type": "code",
   "execution_count": 2,
   "metadata": {},
   "outputs": [],
   "source": [
    "real_path = '/lfs/jonas/nevils/results/first200/real/'\n",
    "real_glob = glob(real_path + '*.png')\n",
    "fake_path = '/lfs/jonas/nevils/results/first200/fake/'\n",
    "fake_glob = glob(fake_path + '*.png')\n",
    "rec_path = '/lfs/jonas/nevils/results/first200/rec/'\n",
    "rec_glob = glob(rec_path + '*.png')\n",
    "batch_size = 50"
   ]
  },
  {
   "cell_type": "code",
   "execution_count": 3,
   "metadata": {},
   "outputs": [],
   "source": [
    "real_A_glob = [path for path in real_glob if 'real_A' in str(path)]\n",
    "fake_A_glob = [path for path in fake_glob if 'fake_A' in str(path)]"
   ]
  },
  {
   "cell_type": "code",
   "execution_count": 4,
   "metadata": {},
   "outputs": [],
   "source": [
    "real_lo_path = '/data/Ro_ImageData/Low SN ratio ceramic images/'\n",
    "real_lo_glob = glob(real_lo_path + '*.tiff')"
   ]
  },
  {
   "cell_type": "code",
   "execution_count": 5,
   "metadata": {},
   "outputs": [],
   "source": [
    "samp_real_A = sample(real_A_glob, batch_size)\n",
    "real_A_list = []\n",
    "for idx, samp in enumerate(samp_real_A):\n",
    "    samp_img = np.array(imread(samp)/2**8).flatten()\n",
    "    real_A_list += [samp_img]\n",
    "\n",
    "real_A = np.asarray(real_A_list)\n",
    "flat_real_A = real_A.flatten()"
   ]
  },
  {
   "cell_type": "code",
   "execution_count": 6,
   "metadata": {},
   "outputs": [],
   "source": [
    "samp_real_lo = sample(real_lo_glob, batch_size)\n",
    "real_lo_list = []\n",
    "for idx, samp in enumerate(samp_real_lo):\n",
    "    samp_img = np.array(imread(samp)/2**16).flatten()\n",
    "    real_lo_list += [samp_img]\n",
    "\n",
    "real_lo = np.asarray(real_lo_list)"
   ]
  },
  {
   "cell_type": "code",
   "execution_count": 7,
   "metadata": {},
   "outputs": [],
   "source": [
    "samp_fake_A = sample(fake_A_glob, batch_size)\n",
    "fake_A_list = []\n",
    "for idx, samp in enumerate(samp_fake_A):\n",
    "    samp_img = np.array(imread(samp)/2**8).flatten()\n",
    "    fake_A_list += [samp_img]\n",
    "\n",
    "fake_A = np.asarray(fake_A_list)\n",
    "flat_fake_A = fake_A.flatten()"
   ]
  },
  {
   "cell_type": "code",
   "execution_count": 8,
   "metadata": {},
   "outputs": [
    {
     "data": {
      "text/plain": [
       "<matplotlib.axes._subplots.AxesSubplot at 0x7f83c86d9670>"
      ]
     },
     "execution_count": 8,
     "metadata": {},
     "output_type": "execute_result"
    },
    {
     "data": {
      "image/png": "[encoded data removed]",
      "text/plain": [
       "<Figure size 432x288 with 1 Axes>"
      ]
     },
     "metadata": {
      "needs_background": "light"
     },
     "output_type": "display_data"
    }
   ],
   "source": [
    "sns.histplot(flat_real_A, color = 'red', bins=100)\n",
    "sns.histplot(flat_fake_A, color = 'skyblue', bins=100)"
   ]
  },
  {
   "cell_type": "code",
   "execution_count": 12,
   "metadata": {},
   "outputs": [
    {
     "data": {
      "text/plain": [
       "KstestResult(statistic=0.105894775390625, pvalue=0.0)"
      ]
     },
     "execution_count": 12,
     "metadata": {},
     "output_type": "execute_result"
    }
   ],
   "source": [
    "ks_2samp(flat_real_A, flat_fake_A)"
   ]
  },
  {
   "cell_type": "code",
   "execution_count": null,
   "metadata": {},
   "outputs": [],
   "source": []
  }
 ],
 "metadata": {
  "kernelspec": {
   "display_name": "Python 3",
   "language": "python",
   "name": "python3"
  },
  "language_info": {
   "codemirror_mode": {
    "name": "ipython",
    "version": 3
   },
   "file_extension": ".py",
   "mimetype": "text/x-python",
   "name": "python",
   "nbconvert_exporter": "python",
   "pygments_lexer": "ipython3",
   "version": "3.8.5"
  }
 },
 "nbformat": 4,
 "nbformat_minor": 4
}
